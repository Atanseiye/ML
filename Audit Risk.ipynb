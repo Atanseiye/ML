{
 "cells": [
  {
   "cell_type": "code",
   "execution_count": 1,
   "metadata": {},
   "outputs": [],
   "source": [
    "import numpy as np\n",
    "import pandas as pd\n",
    "import seaborn as sns\n",
    "import matplotlib.pyplot as plt"
   ]
  },
  {
   "cell_type": "code",
   "execution_count": 2,
   "metadata": {},
   "outputs": [
    {
     "data": {
      "text/html": [
       "<div>\n",
       "<style scoped>\n",
       "    .dataframe tbody tr th:only-of-type {\n",
       "        vertical-align: middle;\n",
       "    }\n",
       "\n",
       "    .dataframe tbody tr th {\n",
       "        vertical-align: top;\n",
       "    }\n",
       "\n",
       "    .dataframe thead th {\n",
       "        text-align: right;\n",
       "    }\n",
       "</style>\n",
       "<table border=\"1\" class=\"dataframe\">\n",
       "  <thead>\n",
       "    <tr style=\"text-align: right;\">\n",
       "      <th></th>\n",
       "      <th>Sector_score</th>\n",
       "      <th>LOCATION_ID</th>\n",
       "      <th>PARA_A</th>\n",
       "      <th>Score_A</th>\n",
       "      <th>Risk_A</th>\n",
       "      <th>PARA_B</th>\n",
       "      <th>Score_B</th>\n",
       "      <th>Risk_B</th>\n",
       "      <th>TOTAL</th>\n",
       "      <th>numbers</th>\n",
       "      <th>...</th>\n",
       "      <th>RiSk_E</th>\n",
       "      <th>History</th>\n",
       "      <th>Prob</th>\n",
       "      <th>Risk_F</th>\n",
       "      <th>Score</th>\n",
       "      <th>Inherent_Risk</th>\n",
       "      <th>CONTROL_RISK</th>\n",
       "      <th>Detection_Risk</th>\n",
       "      <th>Audit_Risk</th>\n",
       "      <th>Risk</th>\n",
       "    </tr>\n",
       "  </thead>\n",
       "  <tbody>\n",
       "    <tr>\n",
       "      <th>0</th>\n",
       "      <td>3.89</td>\n",
       "      <td>23</td>\n",
       "      <td>4.18</td>\n",
       "      <td>0.6</td>\n",
       "      <td>2.508</td>\n",
       "      <td>2.50</td>\n",
       "      <td>0.2</td>\n",
       "      <td>0.500</td>\n",
       "      <td>6.68</td>\n",
       "      <td>5.0</td>\n",
       "      <td>...</td>\n",
       "      <td>0.4</td>\n",
       "      <td>0</td>\n",
       "      <td>0.2</td>\n",
       "      <td>0.0</td>\n",
       "      <td>2.4</td>\n",
       "      <td>8.574</td>\n",
       "      <td>0.4</td>\n",
       "      <td>0.5</td>\n",
       "      <td>1.7148</td>\n",
       "      <td>1</td>\n",
       "    </tr>\n",
       "    <tr>\n",
       "      <th>1</th>\n",
       "      <td>3.89</td>\n",
       "      <td>6</td>\n",
       "      <td>0.00</td>\n",
       "      <td>0.2</td>\n",
       "      <td>0.000</td>\n",
       "      <td>4.83</td>\n",
       "      <td>0.2</td>\n",
       "      <td>0.966</td>\n",
       "      <td>4.83</td>\n",
       "      <td>5.0</td>\n",
       "      <td>...</td>\n",
       "      <td>0.4</td>\n",
       "      <td>0</td>\n",
       "      <td>0.2</td>\n",
       "      <td>0.0</td>\n",
       "      <td>2.0</td>\n",
       "      <td>2.554</td>\n",
       "      <td>0.4</td>\n",
       "      <td>0.5</td>\n",
       "      <td>0.5108</td>\n",
       "      <td>0</td>\n",
       "    </tr>\n",
       "    <tr>\n",
       "      <th>2</th>\n",
       "      <td>3.89</td>\n",
       "      <td>6</td>\n",
       "      <td>0.51</td>\n",
       "      <td>0.2</td>\n",
       "      <td>0.102</td>\n",
       "      <td>0.23</td>\n",
       "      <td>0.2</td>\n",
       "      <td>0.046</td>\n",
       "      <td>0.74</td>\n",
       "      <td>5.0</td>\n",
       "      <td>...</td>\n",
       "      <td>0.4</td>\n",
       "      <td>0</td>\n",
       "      <td>0.2</td>\n",
       "      <td>0.0</td>\n",
       "      <td>2.0</td>\n",
       "      <td>1.548</td>\n",
       "      <td>0.4</td>\n",
       "      <td>0.5</td>\n",
       "      <td>0.3096</td>\n",
       "      <td>0</td>\n",
       "    </tr>\n",
       "    <tr>\n",
       "      <th>3</th>\n",
       "      <td>3.89</td>\n",
       "      <td>6</td>\n",
       "      <td>0.00</td>\n",
       "      <td>0.2</td>\n",
       "      <td>0.000</td>\n",
       "      <td>10.80</td>\n",
       "      <td>0.6</td>\n",
       "      <td>6.480</td>\n",
       "      <td>10.80</td>\n",
       "      <td>6.0</td>\n",
       "      <td>...</td>\n",
       "      <td>0.4</td>\n",
       "      <td>0</td>\n",
       "      <td>0.2</td>\n",
       "      <td>0.0</td>\n",
       "      <td>4.4</td>\n",
       "      <td>17.530</td>\n",
       "      <td>0.4</td>\n",
       "      <td>0.5</td>\n",
       "      <td>3.5060</td>\n",
       "      <td>1</td>\n",
       "    </tr>\n",
       "    <tr>\n",
       "      <th>4</th>\n",
       "      <td>3.89</td>\n",
       "      <td>6</td>\n",
       "      <td>0.00</td>\n",
       "      <td>0.2</td>\n",
       "      <td>0.000</td>\n",
       "      <td>0.08</td>\n",
       "      <td>0.2</td>\n",
       "      <td>0.016</td>\n",
       "      <td>0.08</td>\n",
       "      <td>5.0</td>\n",
       "      <td>...</td>\n",
       "      <td>0.4</td>\n",
       "      <td>0</td>\n",
       "      <td>0.2</td>\n",
       "      <td>0.0</td>\n",
       "      <td>2.0</td>\n",
       "      <td>1.416</td>\n",
       "      <td>0.4</td>\n",
       "      <td>0.5</td>\n",
       "      <td>0.2832</td>\n",
       "      <td>0</td>\n",
       "    </tr>\n",
       "  </tbody>\n",
       "</table>\n",
       "<p>5 rows × 27 columns</p>\n",
       "</div>"
      ],
      "text/plain": [
       "   Sector_score LOCATION_ID  PARA_A  Score_A  Risk_A  PARA_B  Score_B  Risk_B  \\\n",
       "0          3.89          23    4.18      0.6   2.508    2.50      0.2   0.500   \n",
       "1          3.89           6    0.00      0.2   0.000    4.83      0.2   0.966   \n",
       "2          3.89           6    0.51      0.2   0.102    0.23      0.2   0.046   \n",
       "3          3.89           6    0.00      0.2   0.000   10.80      0.6   6.480   \n",
       "4          3.89           6    0.00      0.2   0.000    0.08      0.2   0.016   \n",
       "\n",
       "   TOTAL  numbers  ...  RiSk_E  History  Prob  Risk_F  Score  Inherent_Risk  \\\n",
       "0   6.68      5.0  ...     0.4        0   0.2     0.0    2.4          8.574   \n",
       "1   4.83      5.0  ...     0.4        0   0.2     0.0    2.0          2.554   \n",
       "2   0.74      5.0  ...     0.4        0   0.2     0.0    2.0          1.548   \n",
       "3  10.80      6.0  ...     0.4        0   0.2     0.0    4.4         17.530   \n",
       "4   0.08      5.0  ...     0.4        0   0.2     0.0    2.0          1.416   \n",
       "\n",
       "   CONTROL_RISK  Detection_Risk  Audit_Risk  Risk  \n",
       "0           0.4             0.5      1.7148     1  \n",
       "1           0.4             0.5      0.5108     0  \n",
       "2           0.4             0.5      0.3096     0  \n",
       "3           0.4             0.5      3.5060     1  \n",
       "4           0.4             0.5      0.2832     0  \n",
       "\n",
       "[5 rows x 27 columns]"
      ]
     },
     "execution_count": 2,
     "metadata": {},
     "output_type": "execute_result"
    }
   ],
   "source": [
    "df = pd.read_csv('audit_risk.csv')\n",
    "df.head()"
   ]
  },
  {
   "cell_type": "markdown",
   "metadata": {},
   "source": [
    "###### Checking out the missing values"
   ]
  },
  {
   "cell_type": "code",
   "execution_count": 7,
   "metadata": {
    "collapsed": true,
    "jupyter": {
     "outputs_hidden": true
    }
   },
   "outputs": [
    {
     "data": {
      "text/plain": [
       "Sector_score      0\n",
       "LOCATION_ID       0\n",
       "PARA_A            0\n",
       "Score_A           0\n",
       "Risk_A            0\n",
       "PARA_B            0\n",
       "Score_B           0\n",
       "Risk_B            0\n",
       "TOTAL             0\n",
       "numbers           0\n",
       "Score_B.1         0\n",
       "Risk_C            0\n",
       "Money_Value       0\n",
       "Score_MV          0\n",
       "Risk_D            0\n",
       "District_Loss     0\n",
       "PROB              0\n",
       "RiSk_E            0\n",
       "History           0\n",
       "Prob              0\n",
       "Risk_F            0\n",
       "Score             0\n",
       "Inherent_Risk     0\n",
       "CONTROL_RISK      0\n",
       "Detection_Risk    0\n",
       "Audit_Risk        0\n",
       "Risk              0\n",
       "dtype: int64"
      ]
     },
     "execution_count": 7,
     "metadata": {},
     "output_type": "execute_result"
    }
   ],
   "source": [
    "df.isna().sum()"
   ]
  },
  {
   "cell_type": "markdown",
   "metadata": {},
   "source": [
    "###### Dropping the missing values"
   ]
  },
  {
   "cell_type": "code",
   "execution_count": 41,
   "metadata": {},
   "outputs": [],
   "source": [
    "df.dropna(axis=0, inplace=True)"
   ]
  },
  {
   "cell_type": "markdown",
   "metadata": {},
   "source": [
    "###### Checking the shape"
   ]
  },
  {
   "cell_type": "code",
   "execution_count": 8,
   "metadata": {},
   "outputs": [
    {
     "data": {
      "text/plain": [
       "(775, 27)"
      ]
     },
     "execution_count": 8,
     "metadata": {},
     "output_type": "execute_result"
    }
   ],
   "source": [
    "df.shape"
   ]
  },
  {
   "cell_type": "markdown",
   "metadata": {},
   "source": [
    "###### Check out the info"
   ]
  },
  {
   "cell_type": "code",
   "execution_count": 21,
   "metadata": {
    "collapsed": true,
    "jupyter": {
     "outputs_hidden": true
    }
   },
   "outputs": [
    {
     "name": "stdout",
     "output_type": "stream",
     "text": [
      "<class 'pandas.core.frame.DataFrame'>\n",
      "Int64Index: 775 entries, 0 to 775\n",
      "Data columns (total 27 columns):\n",
      " #   Column          Non-Null Count  Dtype  \n",
      "---  ------          --------------  -----  \n",
      " 0   Sector_score    775 non-null    float64\n",
      " 1   LOCATION_ID     775 non-null    object \n",
      " 2   PARA_A          775 non-null    float64\n",
      " 3   Score_A         775 non-null    float64\n",
      " 4   Risk_A          775 non-null    float64\n",
      " 5   PARA_B          775 non-null    float64\n",
      " 6   Score_B         775 non-null    float64\n",
      " 7   Risk_B          775 non-null    float64\n",
      " 8   TOTAL           775 non-null    float64\n",
      " 9   numbers         775 non-null    float64\n",
      " 10  Score_B.1       775 non-null    float64\n",
      " 11  Risk_C          775 non-null    float64\n",
      " 12  Money_Value     775 non-null    float64\n",
      " 13  Score_MV        775 non-null    float64\n",
      " 14  Risk_D          775 non-null    float64\n",
      " 15  District_Loss   775 non-null    int64  \n",
      " 16  PROB            775 non-null    float64\n",
      " 17  RiSk_E          775 non-null    float64\n",
      " 18  History         775 non-null    int64  \n",
      " 19  Prob            775 non-null    float64\n",
      " 20  Risk_F          775 non-null    float64\n",
      " 21  Score           775 non-null    float64\n",
      " 22  Inherent_Risk   775 non-null    float64\n",
      " 23  CONTROL_RISK    775 non-null    float64\n",
      " 24  Detection_Risk  775 non-null    float64\n",
      " 25  Audit_Risk      775 non-null    float64\n",
      " 26  Risk            775 non-null    int64  \n",
      "dtypes: float64(23), int64(3), object(1)\n",
      "memory usage: 166.5+ KB\n"
     ]
    }
   ],
   "source": [
    "df.info()"
   ]
  },
  {
   "cell_type": "markdown",
   "metadata": {},
   "source": [
    "###### Since the object datatype is an ID that can't be converted, we drop it "
   ]
  },
  {
   "cell_type": "code",
   "execution_count": 42,
   "metadata": {},
   "outputs": [],
   "source": [
    "df.drop('LOCATION_ID', axis = 1, inplace=True)"
   ]
  },
  {
   "cell_type": "markdown",
   "metadata": {},
   "source": [
    "###### Function to remove outliers"
   ]
  },
  {
   "cell_type": "code",
   "execution_count": 9,
   "metadata": {},
   "outputs": [],
   "source": [
    "def remove_outliers(cols):\n",
    "    sorted(cols)\n",
    "    Q1,Q3=np.percentile(cols,[25,75])\n",
    "    IQR=Q3-Q1\n",
    "    lower=Q1-(1.5*IQR)\n",
    "    upper=Q3+(1.5*IQR)\n",
    "    return lower,upper"
   ]
  },
  {
   "cell_type": "markdown",
   "metadata": {},
   "source": [
    "###### Checking the Outliers"
   ]
  },
  {
   "cell_type": "code",
   "execution_count": 34,
   "metadata": {
    "collapsed": true,
    "jupyter": {
     "outputs_hidden": true
    }
   },
   "outputs": [
    {
     "name": "stderr",
     "output_type": "stream",
     "text": [
      "<ipython-input-34-809651841baa>:4: RuntimeWarning: More than 20 figures have been opened. Figures created through the pyplot interface (`matplotlib.pyplot.figure`) are retained until explicitly closed and may consume too much memory. (To control this warning, see the rcParam `figure.max_open_warning`).\n",
      "  plt.figure(i)\n",
      "<ipython-input-34-809651841baa>:4: RuntimeWarning: More than 20 figures have been opened. Figures created through the pyplot interface (`matplotlib.pyplot.figure`) are retained until explicitly closed and may consume too much memory. (To control this warning, see the rcParam `figure.max_open_warning`).\n",
      "  plt.figure(i)\n",
      "<ipython-input-34-809651841baa>:4: RuntimeWarning: More than 20 figures have been opened. Figures created through the pyplot interface (`matplotlib.pyplot.figure`) are retained until explicitly closed and may consume too much memory. (To control this warning, see the rcParam `figure.max_open_warning`).\n",
      "  plt.figure(i)\n",
      "<ipython-input-34-809651841baa>:4: RuntimeWarning: More than 20 figures have been opened. Figures created through the pyplot interface (`matplotlib.pyplot.figure`) are retained until explicitly closed and may consume too much memory. (To control this warning, see the rcParam `figure.max_open_warning`).\n",
      "  plt.figure(i)\n",
      "<ipython-input-34-809651841baa>:4: RuntimeWarning: More than 20 figures have been opened. Figures created through the pyplot interface (`matplotlib.pyplot.figure`) are retained until explicitly closed and may consume too much memory. (To control this warning, see the rcParam `figure.max_open_warning`).\n",
      "  plt.figure(i)\n",
      "<ipython-input-34-809651841baa>:4: RuntimeWarning: More than 20 figures have been opened. Figures created through the pyplot interface (`matplotlib.pyplot.figure`) are retained until explicitly closed and may consume too much memory. (To control this warning, see the rcParam `figure.max_open_warning`).\n",
      "  plt.figure(i)\n"
     ]
    },
    {
     "data": {
      "image/png": "[encoded data removed]",
      "text/plain": [
       "<Figure size 432x288 with 1 Axes>"
      ]
     },
     "metadata": {
      "needs_background": "light"
     },
     "output_type": "display_data"
    },
    {
     "data": {
      "image/png": "[encoded data removed]",
      "text/plain": [
       "<Figure size 432x288 with 1 Axes>"
      ]
     },
     "metadata": {
      "needs_background": "light"
     },
     "output_type": "display_data"
    },
    {
     "data": {
      "image/png": "[encoded data removed]",
      "text/plain": [
       "<Figure size 432x288 with 1 Axes>"
      ]
     },
     "metadata": {
      "needs_background": "light"
     },
     "output_type": "display_data"
    },
    {
     "data": {
      "image/png": "[encoded data removed]",
      "text/plain": [
       "<Figure size 432x288 with 1 Axes>"
      ]
     },
     "metadata": {
      "needs_background": "light"
     },
     "output_type": "display_data"
    },
    {
     "data": {
      "image/png": "[encoded data removed]",
      "text/plain": [
       "<Figure size 432x288 with 1 Axes>"
      ]
     },
     "metadata": {
      "needs_background": "light"
     },
     "output_type": "display_data"
    },
    {
     "data": {
      "image/png": "[encoded data removed]",
      "text/plain": [
       "<Figure size 432x288 with 1 Axes>"
      ]
     },
     "metadata": {
      "needs_background": "light"
     },
     "output_type": "display_data"
    },
    {
     "data": {
      "image/png": "[encoded data removed]",
      "text/plain": [
       "<Figure size 432x288 with 1 Axes>"
      ]
     },
     "metadata": {
      "needs_background": "light"
     },
     "output_type": "display_data"
    },
    {
     "data": {
      "image/png": "[encoded data removed]",
      "text/plain": [
       "<Figure size 432x288 with 1 Axes>"
      ]
     },
     "metadata": {
      "needs_background": "light"
     },
     "output_type": "display_data"
    },
    {
     "data": {
      "image/png": "[encoded data removed]",
      "text/plain": [
       "<Figure size 432x288 with 1 Axes>"
      ]
     },
     "metadata": {
      "needs_background": "light"
     },
     "output_type": "display_data"
    },
    {
     "data": {
      "image/png": "[encoded data removed]",
      "text/plain": [
       "<Figure size 432x288 with 1 Axes>"
      ]
     },
     "metadata": {
      "needs_background": "light"
     },
     "output_type": "display_data"
    },
    {
     "data": {
      "image/png": "[encoded data removed]",
      "text/plain": [
       "<Figure size 432x288 with 1 Axes>"
      ]
     },
     "metadata": {
      "needs_background": "light"
     },
     "output_type": "display_data"
    },
    {
     "data": {
      "image/png": "[encoded data removed]",
      "text/plain": [
       "<Figure size 432x288 with 1 Axes>"
      ]
     },
     "metadata": {
      "needs_background": "light"
     },
     "output_type": "display_data"
    },
    {
     "data": {
      "image/png": "[encoded data removed]",
      "text/plain": [
       "<Figure size 432x288 with 1 Axes>"
      ]
     },
     "metadata": {
      "needs_background": "light"
     },
     "output_type": "display_data"
    },
    {
     "data": {
      "image/png": "[encoded data removed]",
      "text/plain": [
       "<Figure size 432x288 with 1 Axes>"
      ]
     },
     "metadata": {
      "needs_background": "light"
     },
     "output_type": "display_data"
    },
    {
     "data": {
      "image/png": "[encoded data removed]",
      "text/plain": [
       "<Figure size 432x288 with 1 Axes>"
      ]
     },
     "metadata": {
      "needs_background": "light"
     },
     "output_type": "display_data"
    },
    {
     "data": {
      "image/png": "[encoded data removed]",
      "text/plain": [
       "<Figure size 432x288 with 1 Axes>"
      ]
     },
     "metadata": {
      "needs_background": "light"
     },
     "output_type": "display_data"
    },
    {
     "data": {
      "image/png": "[encoded data removed]",
      "text/plain": [
       "<Figure size 432x288 with 1 Axes>"
      ]
     },
     "metadata": {
      "needs_background": "light"
     },
     "output_type": "display_data"
    },
    {
     "data": {
      "image/png": "[encoded data removed]",
      "text/plain": [
       "<Figure size 432x288 with 1 Axes>"
      ]
     },
     "metadata": {
      "needs_background": "light"
     },
     "output_type": "display_data"
    },
    {
     "data": {
      "image/png": "[encoded data removed]",
      "text/plain": [
       "<Figure size 432x288 with 1 Axes>"
      ]
     },
     "metadata": {
      "needs_background": "light"
     },
     "output_type": "display_data"
    },
    {
     "data": {
      "image/png": "[encoded data removed]",
      "text/plain": [
       "<Figure size 432x288 with 1 Axes>"
      ]
     },
     "metadata": {
      "needs_background": "light"
     },
     "output_type": "display_data"
    },
    {
     "data": {
      "image/png": "[encoded data removed]",
      "text/plain": [
       "<Figure size 432x288 with 1 Axes>"
      ]
     },
     "metadata": {
      "needs_background": "light"
     },
     "output_type": "display_data"
    },
    {
     "data": {
      "image/png": "[encoded data removed]",
      "text/plain": [
       "<Figure size 432x288 with 1 Axes>"
      ]
     },
     "metadata": {
      "needs_background": "light"
     },
     "output_type": "display_data"
    },
    {
     "data": {
      "image/png": "[encoded data removed]",
      "text/plain": [
       "<Figure size 432x288 with 1 Axes>"
      ]
     },
     "metadata": {
      "needs_background": "light"
     },
     "output_type": "display_data"
    },
    {
     "data": {
      "image/png": "[encoded data removed]",
      "text/plain": [
       "<Figure size 432x288 with 1 Axes>"
      ]
     },
     "metadata": {
      "needs_background": "light"
     },
     "output_type": "display_data"
    },
    {
     "data": {
      "image/png": "[encoded data removed]",
      "text/plain": [
       "<Figure size 432x288 with 1 Axes>"
      ]
     },
     "metadata": {
      "needs_background": "light"
     },
     "output_type": "display_data"
    },
    {
     "data": {
      "image/png": "[encoded data removed]",
      "text/plain": [
       "<Figure size 432x288 with 1 Axes>"
      ]
     },
     "metadata": {
      "needs_background": "light"
     },
     "output_type": "display_data"
    }
   ],
   "source": [
    "column = df.columns.to_list()\n",
    "\n",
    "for i in df.columns:\n",
    "    plt.figure(i)\n",
    "    sns.boxplot(i, data=df)"
   ]
  },
  {
   "cell_type": "markdown",
   "metadata": {},
   "source": [
    "###### Removing the Outliers"
   ]
  },
  {
   "cell_type": "code",
   "execution_count": 48,
   "metadata": {},
   "outputs": [
    {
     "name": "stdout",
     "output_type": "stream",
     "text": [
      "(-4.0869, 7.6563)\n",
      "(-12.0945, 24.3815)\n",
      "(-3.357, 5.595000000000001)\n",
      "(-8.392500000000002, 13.987500000000002)\n",
      "(-10.2375, 18.502499999999998)\n",
      "(-2.8305, 4.717499999999999)\n",
      "(-6.24, 10.4)\n",
      "(-2.1270000000000007, 3.657000000000001)\n",
      "(-3.1950000000000003, 5.885)\n"
     ]
    }
   ],
   "source": [
    "# from the above boxplot, this are the columns with outliers found in the Datasets \n",
    "outL = ['Audit_Risk', 'Inherent_Risk', 'Risk_D', \n",
    "           'Money_Value', 'TOTAL', 'Risk_B', 'PARA_B', 'Risk_A', 'PARA_A']\n",
    "\n",
    "for i in outL:\n",
    "    print(remove_outliers(df[i]))"
   ]
  },
  {
   "cell_type": "markdown",
   "metadata": {},
   "source": [
    "###### checking the correlation between all the variables with respect to the Target variables"
   ]
  },
  {
   "cell_type": "code",
   "execution_count": 58,
   "metadata": {},
   "outputs": [
    {
     "data": {
      "text/html": [
       "<div>\n",
       "<style scoped>\n",
       "    .dataframe tbody tr th:only-of-type {\n",
       "        vertical-align: middle;\n",
       "    }\n",
       "\n",
       "    .dataframe tbody tr th {\n",
       "        vertical-align: top;\n",
       "    }\n",
       "\n",
       "    .dataframe thead th {\n",
       "        text-align: right;\n",
       "    }\n",
       "</style>\n",
       "<table border=\"1\" class=\"dataframe\">\n",
       "  <thead>\n",
       "    <tr style=\"text-align: right;\">\n",
       "      <th></th>\n",
       "      <th>Sector_score</th>\n",
       "      <th>PARA_A</th>\n",
       "      <th>Score_A</th>\n",
       "      <th>Risk_A</th>\n",
       "      <th>PARA_B</th>\n",
       "      <th>Score_B</th>\n",
       "      <th>Risk_B</th>\n",
       "      <th>TOTAL</th>\n",
       "      <th>numbers</th>\n",
       "      <th>Score_B.1</th>\n",
       "      <th>...</th>\n",
       "      <th>RiSk_E</th>\n",
       "      <th>History</th>\n",
       "      <th>Prob</th>\n",
       "      <th>Risk_F</th>\n",
       "      <th>Score</th>\n",
       "      <th>Inherent_Risk</th>\n",
       "      <th>CONTROL_RISK</th>\n",
       "      <th>Detection_Risk</th>\n",
       "      <th>Audit_Risk</th>\n",
       "      <th>Risk</th>\n",
       "    </tr>\n",
       "  </thead>\n",
       "  <tbody>\n",
       "    <tr>\n",
       "      <th>Sector_score</th>\n",
       "      <td>1.000000</td>\n",
       "      <td>-0.216406</td>\n",
       "      <td>-0.424352</td>\n",
       "      <td>-0.218631</td>\n",
       "      <td>-0.132450</td>\n",
       "      <td>-0.218075</td>\n",
       "      <td>-0.130376</td>\n",
       "      <td>-0.153056</td>\n",
       "      <td>-0.151573</td>\n",
       "      <td>-0.170092</td>\n",
       "      <td>...</td>\n",
       "      <td>-0.127964</td>\n",
       "      <td>-0.114588</td>\n",
       "      <td>-0.136629</td>\n",
       "      <td>-0.103036</td>\n",
       "      <td>-0.336394</td>\n",
       "      <td>-0.172967</td>\n",
       "      <td>-0.154446</td>\n",
       "      <td>NaN</td>\n",
       "      <td>-0.091747</td>\n",
       "      <td>-0.393322</td>\n",
       "    </tr>\n",
       "    <tr>\n",
       "      <th>PARA_A</th>\n",
       "      <td>-0.216406</td>\n",
       "      <td>1.000000</td>\n",
       "      <td>0.496532</td>\n",
       "      <td>0.999267</td>\n",
       "      <td>0.161852</td>\n",
       "      <td>0.358352</td>\n",
       "      <td>0.161748</td>\n",
       "      <td>0.266952</td>\n",
       "      <td>0.133676</td>\n",
       "      <td>0.140521</td>\n",
       "      <td>...</td>\n",
       "      <td>0.118758</td>\n",
       "      <td>0.118195</td>\n",
       "      <td>0.172534</td>\n",
       "      <td>0.103904</td>\n",
       "      <td>0.426472</td>\n",
       "      <td>0.481784</td>\n",
       "      <td>0.149032</td>\n",
       "      <td>NaN</td>\n",
       "      <td>0.219695</td>\n",
       "      <td>0.378547</td>\n",
       "    </tr>\n",
       "    <tr>\n",
       "      <th>Score_A</th>\n",
       "      <td>-0.424352</td>\n",
       "      <td>0.496532</td>\n",
       "      <td>1.000000</td>\n",
       "      <td>0.504746</td>\n",
       "      <td>0.249325</td>\n",
       "      <td>0.572351</td>\n",
       "      <td>0.248079</td>\n",
       "      <td>0.297420</td>\n",
       "      <td>0.242533</td>\n",
       "      <td>0.274412</td>\n",
       "      <td>...</td>\n",
       "      <td>0.102278</td>\n",
       "      <td>0.177802</td>\n",
       "      <td>0.265185</td>\n",
       "      <td>0.150805</td>\n",
       "      <td>0.720233</td>\n",
       "      <td>0.320762</td>\n",
       "      <td>0.170536</td>\n",
       "      <td>NaN</td>\n",
       "      <td>0.201750</td>\n",
       "      <td>0.619383</td>\n",
       "    </tr>\n",
       "    <tr>\n",
       "      <th>Risk_A</th>\n",
       "      <td>-0.218631</td>\n",
       "      <td>0.999267</td>\n",
       "      <td>0.504746</td>\n",
       "      <td>1.000000</td>\n",
       "      <td>0.165202</td>\n",
       "      <td>0.362783</td>\n",
       "      <td>0.165060</td>\n",
       "      <td>0.270135</td>\n",
       "      <td>0.135506</td>\n",
       "      <td>0.142979</td>\n",
       "      <td>...</td>\n",
       "      <td>0.118463</td>\n",
       "      <td>0.121050</td>\n",
       "      <td>0.176061</td>\n",
       "      <td>0.106487</td>\n",
       "      <td>0.432332</td>\n",
       "      <td>0.483218</td>\n",
       "      <td>0.150616</td>\n",
       "      <td>NaN</td>\n",
       "      <td>0.221519</td>\n",
       "      <td>0.384869</td>\n",
       "    </tr>\n",
       "    <tr>\n",
       "      <th>PARA_B</th>\n",
       "      <td>-0.132450</td>\n",
       "      <td>0.161852</td>\n",
       "      <td>0.249325</td>\n",
       "      <td>0.165202</td>\n",
       "      <td>1.000000</td>\n",
       "      <td>0.347493</td>\n",
       "      <td>0.999936</td>\n",
       "      <td>0.994101</td>\n",
       "      <td>0.209799</td>\n",
       "      <td>0.230789</td>\n",
       "      <td>...</td>\n",
       "      <td>0.079290</td>\n",
       "      <td>0.203539</td>\n",
       "      <td>0.316494</td>\n",
       "      <td>0.196009</td>\n",
       "      <td>0.397111</td>\n",
       "      <td>0.654427</td>\n",
       "      <td>0.186625</td>\n",
       "      <td>NaN</td>\n",
       "      <td>0.887789</td>\n",
       "      <td>0.256920</td>\n",
       "    </tr>\n",
       "    <tr>\n",
       "      <th>Score_B</th>\n",
       "      <td>-0.218075</td>\n",
       "      <td>0.358352</td>\n",
       "      <td>0.572351</td>\n",
       "      <td>0.362783</td>\n",
       "      <td>0.347493</td>\n",
       "      <td>1.000000</td>\n",
       "      <td>0.348081</td>\n",
       "      <td>0.379242</td>\n",
       "      <td>0.277447</td>\n",
       "      <td>0.313651</td>\n",
       "      <td>...</td>\n",
       "      <td>0.014977</td>\n",
       "      <td>0.200734</td>\n",
       "      <td>0.309393</td>\n",
       "      <td>0.171172</td>\n",
       "      <td>0.901220</td>\n",
       "      <td>0.365532</td>\n",
       "      <td>0.127542</td>\n",
       "      <td>NaN</td>\n",
       "      <td>0.207886</td>\n",
       "      <td>0.635524</td>\n",
       "    </tr>\n",
       "    <tr>\n",
       "      <th>Risk_B</th>\n",
       "      <td>-0.130376</td>\n",
       "      <td>0.161748</td>\n",
       "      <td>0.248079</td>\n",
       "      <td>0.165060</td>\n",
       "      <td>0.999936</td>\n",
       "      <td>0.348081</td>\n",
       "      <td>1.000000</td>\n",
       "      <td>0.994023</td>\n",
       "      <td>0.209541</td>\n",
       "      <td>0.230486</td>\n",
       "      <td>...</td>\n",
       "      <td>0.079630</td>\n",
       "      <td>0.202780</td>\n",
       "      <td>0.316329</td>\n",
       "      <td>0.195254</td>\n",
       "      <td>0.396908</td>\n",
       "      <td>0.654480</td>\n",
       "      <td>0.186327</td>\n",
       "      <td>NaN</td>\n",
       "      <td>0.887565</td>\n",
       "      <td>0.255181</td>\n",
       "    </tr>\n",
       "    <tr>\n",
       "      <th>TOTAL</th>\n",
       "      <td>-0.153056</td>\n",
       "      <td>0.266952</td>\n",
       "      <td>0.297420</td>\n",
       "      <td>0.270135</td>\n",
       "      <td>0.994101</td>\n",
       "      <td>0.379242</td>\n",
       "      <td>0.994023</td>\n",
       "      <td>1.000000</td>\n",
       "      <td>0.217576</td>\n",
       "      <td>0.238164</td>\n",
       "      <td>...</td>\n",
       "      <td>0.089083</td>\n",
       "      <td>0.210702</td>\n",
       "      <td>0.326342</td>\n",
       "      <td>0.202114</td>\n",
       "      <td>0.433766</td>\n",
       "      <td>0.689743</td>\n",
       "      <td>0.197219</td>\n",
       "      <td>NaN</td>\n",
       "      <td>0.888093</td>\n",
       "      <td>0.291893</td>\n",
       "    </tr>\n",
       "    <tr>\n",
       "      <th>numbers</th>\n",
       "      <td>-0.151573</td>\n",
       "      <td>0.133676</td>\n",
       "      <td>0.242533</td>\n",
       "      <td>0.135506</td>\n",
       "      <td>0.209799</td>\n",
       "      <td>0.277447</td>\n",
       "      <td>0.209541</td>\n",
       "      <td>0.217576</td>\n",
       "      <td>1.000000</td>\n",
       "      <td>0.908132</td>\n",
       "      <td>...</td>\n",
       "      <td>0.136841</td>\n",
       "      <td>0.202276</td>\n",
       "      <td>0.209534</td>\n",
       "      <td>0.202340</td>\n",
       "      <td>0.502795</td>\n",
       "      <td>0.271044</td>\n",
       "      <td>0.228560</td>\n",
       "      <td>NaN</td>\n",
       "      <td>0.221416</td>\n",
       "      <td>0.308017</td>\n",
       "    </tr>\n",
       "    <tr>\n",
       "      <th>Score_B.1</th>\n",
       "      <td>-0.170092</td>\n",
       "      <td>0.140521</td>\n",
       "      <td>0.274412</td>\n",
       "      <td>0.142979</td>\n",
       "      <td>0.230789</td>\n",
       "      <td>0.313651</td>\n",
       "      <td>0.230486</td>\n",
       "      <td>0.238164</td>\n",
       "      <td>0.908132</td>\n",
       "      <td>1.000000</td>\n",
       "      <td>...</td>\n",
       "      <td>0.157464</td>\n",
       "      <td>0.226121</td>\n",
       "      <td>0.248353</td>\n",
       "      <td>0.223293</td>\n",
       "      <td>0.565941</td>\n",
       "      <td>0.308465</td>\n",
       "      <td>0.256442</td>\n",
       "      <td>NaN</td>\n",
       "      <td>0.259689</td>\n",
       "      <td>0.353664</td>\n",
       "    </tr>\n",
       "    <tr>\n",
       "      <th>Risk_C</th>\n",
       "      <td>-0.166165</td>\n",
       "      <td>0.140333</td>\n",
       "      <td>0.265807</td>\n",
       "      <td>0.142590</td>\n",
       "      <td>0.222993</td>\n",
       "      <td>0.302867</td>\n",
       "      <td>0.222683</td>\n",
       "      <td>0.230626</td>\n",
       "      <td>0.955300</td>\n",
       "      <td>0.990411</td>\n",
       "      <td>...</td>\n",
       "      <td>0.154580</td>\n",
       "      <td>0.220631</td>\n",
       "      <td>0.237654</td>\n",
       "      <td>0.218798</td>\n",
       "      <td>0.551888</td>\n",
       "      <td>0.300567</td>\n",
       "      <td>0.251466</td>\n",
       "      <td>NaN</td>\n",
       "      <td>0.249978</td>\n",
       "      <td>0.342006</td>\n",
       "    </tr>\n",
       "    <tr>\n",
       "      <th>Money_Value</th>\n",
       "      <td>-0.117589</td>\n",
       "      <td>0.449318</td>\n",
       "      <td>0.206131</td>\n",
       "      <td>0.448703</td>\n",
       "      <td>0.125033</td>\n",
       "      <td>0.205139</td>\n",
       "      <td>0.125069</td>\n",
       "      <td>0.168669</td>\n",
       "      <td>0.186188</td>\n",
       "      <td>0.220348</td>\n",
       "      <td>...</td>\n",
       "      <td>0.033047</td>\n",
       "      <td>0.080080</td>\n",
       "      <td>0.112184</td>\n",
       "      <td>0.069691</td>\n",
       "      <td>0.291810</td>\n",
       "      <td>0.829743</td>\n",
       "      <td>0.069524</td>\n",
       "      <td>NaN</td>\n",
       "      <td>0.334051</td>\n",
       "      <td>0.256992</td>\n",
       "    </tr>\n",
       "    <tr>\n",
       "      <th>Score_MV</th>\n",
       "      <td>-0.318342</td>\n",
       "      <td>0.285791</td>\n",
       "      <td>0.478570</td>\n",
       "      <td>0.290560</td>\n",
       "      <td>0.314464</td>\n",
       "      <td>0.567383</td>\n",
       "      <td>0.313008</td>\n",
       "      <td>0.337366</td>\n",
       "      <td>0.446590</td>\n",
       "      <td>0.507166</td>\n",
       "      <td>...</td>\n",
       "      <td>0.104166</td>\n",
       "      <td>0.246794</td>\n",
       "      <td>0.334616</td>\n",
       "      <td>0.216893</td>\n",
       "      <td>0.758212</td>\n",
       "      <td>0.482285</td>\n",
       "      <td>0.217235</td>\n",
       "      <td>NaN</td>\n",
       "      <td>0.291658</td>\n",
       "      <td>0.688207</td>\n",
       "    </tr>\n",
       "    <tr>\n",
       "      <th>Risk_D</th>\n",
       "      <td>-0.115937</td>\n",
       "      <td>0.448507</td>\n",
       "      <td>0.203551</td>\n",
       "      <td>0.447866</td>\n",
       "      <td>0.124620</td>\n",
       "      <td>0.202059</td>\n",
       "      <td>0.124667</td>\n",
       "      <td>0.168176</td>\n",
       "      <td>0.186513</td>\n",
       "      <td>0.220581</td>\n",
       "      <td>...</td>\n",
       "      <td>0.033167</td>\n",
       "      <td>0.079791</td>\n",
       "      <td>0.111429</td>\n",
       "      <td>0.069526</td>\n",
       "      <td>0.289399</td>\n",
       "      <td>0.829516</td>\n",
       "      <td>0.069490</td>\n",
       "      <td>NaN</td>\n",
       "      <td>0.334153</td>\n",
       "      <td>0.254253</td>\n",
       "    </tr>\n",
       "    <tr>\n",
       "      <th>District_Loss</th>\n",
       "      <td>-0.107588</td>\n",
       "      <td>0.127622</td>\n",
       "      <td>0.088253</td>\n",
       "      <td>0.127196</td>\n",
       "      <td>0.082841</td>\n",
       "      <td>-0.005010</td>\n",
       "      <td>0.083029</td>\n",
       "      <td>0.093221</td>\n",
       "      <td>0.124893</td>\n",
       "      <td>0.150237</td>\n",
       "      <td>...</td>\n",
       "      <td>0.913458</td>\n",
       "      <td>0.069284</td>\n",
       "      <td>0.083803</td>\n",
       "      <td>0.070602</td>\n",
       "      <td>0.210209</td>\n",
       "      <td>0.080979</td>\n",
       "      <td>0.645054</td>\n",
       "      <td>NaN</td>\n",
       "      <td>0.199357</td>\n",
       "      <td>0.403591</td>\n",
       "    </tr>\n",
       "    <tr>\n",
       "      <th>PROB</th>\n",
       "      <td>-0.086560</td>\n",
       "      <td>0.043629</td>\n",
       "      <td>0.093510</td>\n",
       "      <td>0.043659</td>\n",
       "      <td>0.042507</td>\n",
       "      <td>0.092453</td>\n",
       "      <td>0.042833</td>\n",
       "      <td>0.046419</td>\n",
       "      <td>0.035755</td>\n",
       "      <td>0.036839</td>\n",
       "      <td>...</td>\n",
       "      <td>0.406227</td>\n",
       "      <td>0.110025</td>\n",
       "      <td>0.141426</td>\n",
       "      <td>0.106002</td>\n",
       "      <td>0.167622</td>\n",
       "      <td>0.052636</td>\n",
       "      <td>0.338190</td>\n",
       "      <td>NaN</td>\n",
       "      <td>0.073794</td>\n",
       "      <td>0.176818</td>\n",
       "    </tr>\n",
       "    <tr>\n",
       "      <th>RiSk_E</th>\n",
       "      <td>-0.127964</td>\n",
       "      <td>0.118758</td>\n",
       "      <td>0.102278</td>\n",
       "      <td>0.118463</td>\n",
       "      <td>0.079290</td>\n",
       "      <td>0.014977</td>\n",
       "      <td>0.079630</td>\n",
       "      <td>0.089083</td>\n",
       "      <td>0.136841</td>\n",
       "      <td>0.157464</td>\n",
       "      <td>...</td>\n",
       "      <td>1.000000</td>\n",
       "      <td>0.110016</td>\n",
       "      <td>0.123580</td>\n",
       "      <td>0.111628</td>\n",
       "      <td>0.236702</td>\n",
       "      <td>0.082823</td>\n",
       "      <td>0.729790</td>\n",
       "      <td>NaN</td>\n",
       "      <td>0.202915</td>\n",
       "      <td>0.411594</td>\n",
       "    </tr>\n",
       "    <tr>\n",
       "      <th>History</th>\n",
       "      <td>-0.114588</td>\n",
       "      <td>0.118195</td>\n",
       "      <td>0.177802</td>\n",
       "      <td>0.121050</td>\n",
       "      <td>0.203539</td>\n",
       "      <td>0.200734</td>\n",
       "      <td>0.202780</td>\n",
       "      <td>0.210702</td>\n",
       "      <td>0.202276</td>\n",
       "      <td>0.226121</td>\n",
       "      <td>...</td>\n",
       "      <td>0.110016</td>\n",
       "      <td>1.000000</td>\n",
       "      <td>0.859289</td>\n",
       "      <td>0.991987</td>\n",
       "      <td>0.326094</td>\n",
       "      <td>0.185553</td>\n",
       "      <td>0.754299</td>\n",
       "      <td>NaN</td>\n",
       "      <td>0.329742</td>\n",
       "      <td>0.239354</td>\n",
       "    </tr>\n",
       "    <tr>\n",
       "      <th>Prob</th>\n",
       "      <td>-0.136629</td>\n",
       "      <td>0.172534</td>\n",
       "      <td>0.265185</td>\n",
       "      <td>0.176061</td>\n",
       "      <td>0.316494</td>\n",
       "      <td>0.309393</td>\n",
       "      <td>0.316329</td>\n",
       "      <td>0.326342</td>\n",
       "      <td>0.209534</td>\n",
       "      <td>0.248353</td>\n",
       "      <td>...</td>\n",
       "      <td>0.123580</td>\n",
       "      <td>0.859289</td>\n",
       "      <td>1.000000</td>\n",
       "      <td>0.815603</td>\n",
       "      <td>0.443344</td>\n",
       "      <td>0.273745</td>\n",
       "      <td>0.641809</td>\n",
       "      <td>NaN</td>\n",
       "      <td>0.431279</td>\n",
       "      <td>0.298520</td>\n",
       "    </tr>\n",
       "    <tr>\n",
       "      <th>Risk_F</th>\n",
       "      <td>-0.103036</td>\n",
       "      <td>0.103904</td>\n",
       "      <td>0.150805</td>\n",
       "      <td>0.106487</td>\n",
       "      <td>0.196009</td>\n",
       "      <td>0.171172</td>\n",
       "      <td>0.195254</td>\n",
       "      <td>0.202114</td>\n",
       "      <td>0.202340</td>\n",
       "      <td>0.223293</td>\n",
       "      <td>...</td>\n",
       "      <td>0.111628</td>\n",
       "      <td>0.991987</td>\n",
       "      <td>0.815603</td>\n",
       "      <td>1.000000</td>\n",
       "      <td>0.293550</td>\n",
       "      <td>0.173045</td>\n",
       "      <td>0.760864</td>\n",
       "      <td>NaN</td>\n",
       "      <td>0.327723</td>\n",
       "      <td>0.214423</td>\n",
       "    </tr>\n",
       "    <tr>\n",
       "      <th>Score</th>\n",
       "      <td>-0.336394</td>\n",
       "      <td>0.426472</td>\n",
       "      <td>0.720233</td>\n",
       "      <td>0.432332</td>\n",
       "      <td>0.397111</td>\n",
       "      <td>0.901220</td>\n",
       "      <td>0.396908</td>\n",
       "      <td>0.433766</td>\n",
       "      <td>0.502795</td>\n",
       "      <td>0.565941</td>\n",
       "      <td>...</td>\n",
       "      <td>0.236702</td>\n",
       "      <td>0.326094</td>\n",
       "      <td>0.443344</td>\n",
       "      <td>0.293550</td>\n",
       "      <td>1.000000</td>\n",
       "      <td>0.464835</td>\n",
       "      <td>0.356519</td>\n",
       "      <td>NaN</td>\n",
       "      <td>0.332955</td>\n",
       "      <td>0.785813</td>\n",
       "    </tr>\n",
       "    <tr>\n",
       "      <th>Inherent_Risk</th>\n",
       "      <td>-0.172967</td>\n",
       "      <td>0.481784</td>\n",
       "      <td>0.320762</td>\n",
       "      <td>0.483218</td>\n",
       "      <td>0.654427</td>\n",
       "      <td>0.365532</td>\n",
       "      <td>0.654480</td>\n",
       "      <td>0.689743</td>\n",
       "      <td>0.271044</td>\n",
       "      <td>0.308465</td>\n",
       "      <td>...</td>\n",
       "      <td>0.082823</td>\n",
       "      <td>0.185553</td>\n",
       "      <td>0.273745</td>\n",
       "      <td>0.173045</td>\n",
       "      <td>0.464835</td>\n",
       "      <td>1.000000</td>\n",
       "      <td>0.173132</td>\n",
       "      <td>NaN</td>\n",
       "      <td>0.750893</td>\n",
       "      <td>0.356881</td>\n",
       "    </tr>\n",
       "    <tr>\n",
       "      <th>CONTROL_RISK</th>\n",
       "      <td>-0.154446</td>\n",
       "      <td>0.149032</td>\n",
       "      <td>0.170536</td>\n",
       "      <td>0.150616</td>\n",
       "      <td>0.186625</td>\n",
       "      <td>0.127542</td>\n",
       "      <td>0.186327</td>\n",
       "      <td>0.197219</td>\n",
       "      <td>0.228560</td>\n",
       "      <td>0.256442</td>\n",
       "      <td>...</td>\n",
       "      <td>0.729790</td>\n",
       "      <td>0.754299</td>\n",
       "      <td>0.641809</td>\n",
       "      <td>0.760864</td>\n",
       "      <td>0.356519</td>\n",
       "      <td>0.173132</td>\n",
       "      <td>1.000000</td>\n",
       "      <td>NaN</td>\n",
       "      <td>0.357966</td>\n",
       "      <td>0.416285</td>\n",
       "    </tr>\n",
       "    <tr>\n",
       "      <th>Detection_Risk</th>\n",
       "      <td>NaN</td>\n",
       "      <td>NaN</td>\n",
       "      <td>NaN</td>\n",
       "      <td>NaN</td>\n",
       "      <td>NaN</td>\n",
       "      <td>NaN</td>\n",
       "      <td>NaN</td>\n",
       "      <td>NaN</td>\n",
       "      <td>NaN</td>\n",
       "      <td>NaN</td>\n",
       "      <td>...</td>\n",
       "      <td>NaN</td>\n",
       "      <td>NaN</td>\n",
       "      <td>NaN</td>\n",
       "      <td>NaN</td>\n",
       "      <td>NaN</td>\n",
       "      <td>NaN</td>\n",
       "      <td>NaN</td>\n",
       "      <td>NaN</td>\n",
       "      <td>NaN</td>\n",
       "      <td>NaN</td>\n",
       "    </tr>\n",
       "    <tr>\n",
       "      <th>Audit_Risk</th>\n",
       "      <td>-0.091747</td>\n",
       "      <td>0.219695</td>\n",
       "      <td>0.201750</td>\n",
       "      <td>0.221519</td>\n",
       "      <td>0.887789</td>\n",
       "      <td>0.207886</td>\n",
       "      <td>0.887565</td>\n",
       "      <td>0.888093</td>\n",
       "      <td>0.221416</td>\n",
       "      <td>0.259689</td>\n",
       "      <td>...</td>\n",
       "      <td>0.202915</td>\n",
       "      <td>0.329742</td>\n",
       "      <td>0.431279</td>\n",
       "      <td>0.327723</td>\n",
       "      <td>0.332955</td>\n",
       "      <td>0.750893</td>\n",
       "      <td>0.357966</td>\n",
       "      <td>NaN</td>\n",
       "      <td>1.000000</td>\n",
       "      <td>0.217023</td>\n",
       "    </tr>\n",
       "    <tr>\n",
       "      <th>Risk</th>\n",
       "      <td>-0.393322</td>\n",
       "      <td>0.378547</td>\n",
       "      <td>0.619383</td>\n",
       "      <td>0.384869</td>\n",
       "      <td>0.256920</td>\n",
       "      <td>0.635524</td>\n",
       "      <td>0.255181</td>\n",
       "      <td>0.291893</td>\n",
       "      <td>0.308017</td>\n",
       "      <td>0.353664</td>\n",
       "      <td>...</td>\n",
       "      <td>0.411594</td>\n",
       "      <td>0.239354</td>\n",
       "      <td>0.298520</td>\n",
       "      <td>0.214423</td>\n",
       "      <td>0.785813</td>\n",
       "      <td>0.356881</td>\n",
       "      <td>0.416285</td>\n",
       "      <td>NaN</td>\n",
       "      <td>0.217023</td>\n",
       "      <td>1.000000</td>\n",
       "    </tr>\n",
       "  </tbody>\n",
       "</table>\n",
       "<p>26 rows × 26 columns</p>\n",
       "</div>"
      ],
      "text/plain": [
       "                Sector_score    PARA_A   Score_A    Risk_A    PARA_B  \\\n",
       "Sector_score        1.000000 -0.216406 -0.424352 -0.218631 -0.132450   \n",
       "PARA_A             -0.216406  1.000000  0.496532  0.999267  0.161852   \n",
       "Score_A            -0.424352  0.496532  1.000000  0.504746  0.249325   \n",
       "Risk_A             -0.218631  0.999267  0.504746  1.000000  0.165202   \n",
       "PARA_B             -0.132450  0.161852  0.249325  0.165202  1.000000   \n",
       "Score_B            -0.218075  0.358352  0.572351  0.362783  0.347493   \n",
       "Risk_B             -0.130376  0.161748  0.248079  0.165060  0.999936   \n",
       "TOTAL              -0.153056  0.266952  0.297420  0.270135  0.994101   \n",
       "numbers            -0.151573  0.133676  0.242533  0.135506  0.209799   \n",
       "Score_B.1          -0.170092  0.140521  0.274412  0.142979  0.230789   \n",
       "Risk_C             -0.166165  0.140333  0.265807  0.142590  0.222993   \n",
       "Money_Value        -0.117589  0.449318  0.206131  0.448703  0.125033   \n",
       "Score_MV           -0.318342  0.285791  0.478570  0.290560  0.314464   \n",
       "Risk_D             -0.115937  0.448507  0.203551  0.447866  0.124620   \n",
       "District_Loss      -0.107588  0.127622  0.088253  0.127196  0.082841   \n",
       "PROB               -0.086560  0.043629  0.093510  0.043659  0.042507   \n",
       "RiSk_E             -0.127964  0.118758  0.102278  0.118463  0.079290   \n",
       "History            -0.114588  0.118195  0.177802  0.121050  0.203539   \n",
       "Prob               -0.136629  0.172534  0.265185  0.176061  0.316494   \n",
       "Risk_F             -0.103036  0.103904  0.150805  0.106487  0.196009   \n",
       "Score              -0.336394  0.426472  0.720233  0.432332  0.397111   \n",
       "Inherent_Risk      -0.172967  0.481784  0.320762  0.483218  0.654427   \n",
       "CONTROL_RISK       -0.154446  0.149032  0.170536  0.150616  0.186625   \n",
       "Detection_Risk           NaN       NaN       NaN       NaN       NaN   \n",
       "Audit_Risk         -0.091747  0.219695  0.201750  0.221519  0.887789   \n",
       "Risk               -0.393322  0.378547  0.619383  0.384869  0.256920   \n",
       "\n",
       "                 Score_B    Risk_B     TOTAL   numbers  Score_B.1  ...  \\\n",
       "Sector_score   -0.218075 -0.130376 -0.153056 -0.151573  -0.170092  ...   \n",
       "PARA_A          0.358352  0.161748  0.266952  0.133676   0.140521  ...   \n",
       "Score_A         0.572351  0.248079  0.297420  0.242533   0.274412  ...   \n",
       "Risk_A          0.362783  0.165060  0.270135  0.135506   0.142979  ...   \n",
       "PARA_B          0.347493  0.999936  0.994101  0.209799   0.230789  ...   \n",
       "Score_B         1.000000  0.348081  0.379242  0.277447   0.313651  ...   \n",
       "Risk_B          0.348081  1.000000  0.994023  0.209541   0.230486  ...   \n",
       "TOTAL           0.379242  0.994023  1.000000  0.217576   0.238164  ...   \n",
       "numbers         0.277447  0.209541  0.217576  1.000000   0.908132  ...   \n",
       "Score_B.1       0.313651  0.230486  0.238164  0.908132   1.000000  ...   \n",
       "Risk_C          0.302867  0.222683  0.230626  0.955300   0.990411  ...   \n",
       "Money_Value     0.205139  0.125069  0.168669  0.186188   0.220348  ...   \n",
       "Score_MV        0.567383  0.313008  0.337366  0.446590   0.507166  ...   \n",
       "Risk_D          0.202059  0.124667  0.168176  0.186513   0.220581  ...   \n",
       "District_Loss  -0.005010  0.083029  0.093221  0.124893   0.150237  ...   \n",
       "PROB            0.092453  0.042833  0.046419  0.035755   0.036839  ...   \n",
       "RiSk_E          0.014977  0.079630  0.089083  0.136841   0.157464  ...   \n",
       "History         0.200734  0.202780  0.210702  0.202276   0.226121  ...   \n",
       "Prob            0.309393  0.316329  0.326342  0.209534   0.248353  ...   \n",
       "Risk_F          0.171172  0.195254  0.202114  0.202340   0.223293  ...   \n",
       "Score           0.901220  0.396908  0.433766  0.502795   0.565941  ...   \n",
       "Inherent_Risk   0.365532  0.654480  0.689743  0.271044   0.308465  ...   \n",
       "CONTROL_RISK    0.127542  0.186327  0.197219  0.228560   0.256442  ...   \n",
       "Detection_Risk       NaN       NaN       NaN       NaN        NaN  ...   \n",
       "Audit_Risk      0.207886  0.887565  0.888093  0.221416   0.259689  ...   \n",
       "Risk            0.635524  0.255181  0.291893  0.308017   0.353664  ...   \n",
       "\n",
       "                  RiSk_E   History      Prob    Risk_F     Score  \\\n",
       "Sector_score   -0.127964 -0.114588 -0.136629 -0.103036 -0.336394   \n",
       "PARA_A          0.118758  0.118195  0.172534  0.103904  0.426472   \n",
       "Score_A         0.102278  0.177802  0.265185  0.150805  0.720233   \n",
       "Risk_A          0.118463  0.121050  0.176061  0.106487  0.432332   \n",
       "PARA_B          0.079290  0.203539  0.316494  0.196009  0.397111   \n",
       "Score_B         0.014977  0.200734  0.309393  0.171172  0.901220   \n",
       "Risk_B          0.079630  0.202780  0.316329  0.195254  0.396908   \n",
       "TOTAL           0.089083  0.210702  0.326342  0.202114  0.433766   \n",
       "numbers         0.136841  0.202276  0.209534  0.202340  0.502795   \n",
       "Score_B.1       0.157464  0.226121  0.248353  0.223293  0.565941   \n",
       "Risk_C          0.154580  0.220631  0.237654  0.218798  0.551888   \n",
       "Money_Value     0.033047  0.080080  0.112184  0.069691  0.291810   \n",
       "Score_MV        0.104166  0.246794  0.334616  0.216893  0.758212   \n",
       "Risk_D          0.033167  0.079791  0.111429  0.069526  0.289399   \n",
       "District_Loss   0.913458  0.069284  0.083803  0.070602  0.210209   \n",
       "PROB            0.406227  0.110025  0.141426  0.106002  0.167622   \n",
       "RiSk_E          1.000000  0.110016  0.123580  0.111628  0.236702   \n",
       "History         0.110016  1.000000  0.859289  0.991987  0.326094   \n",
       "Prob            0.123580  0.859289  1.000000  0.815603  0.443344   \n",
       "Risk_F          0.111628  0.991987  0.815603  1.000000  0.293550   \n",
       "Score           0.236702  0.326094  0.443344  0.293550  1.000000   \n",
       "Inherent_Risk   0.082823  0.185553  0.273745  0.173045  0.464835   \n",
       "CONTROL_RISK    0.729790  0.754299  0.641809  0.760864  0.356519   \n",
       "Detection_Risk       NaN       NaN       NaN       NaN       NaN   \n",
       "Audit_Risk      0.202915  0.329742  0.431279  0.327723  0.332955   \n",
       "Risk            0.411594  0.239354  0.298520  0.214423  0.785813   \n",
       "\n",
       "                Inherent_Risk  CONTROL_RISK  Detection_Risk  Audit_Risk  \\\n",
       "Sector_score        -0.172967     -0.154446             NaN   -0.091747   \n",
       "PARA_A               0.481784      0.149032             NaN    0.219695   \n",
       "Score_A              0.320762      0.170536             NaN    0.201750   \n",
       "Risk_A               0.483218      0.150616             NaN    0.221519   \n",
       "PARA_B               0.654427      0.186625             NaN    0.887789   \n",
       "Score_B              0.365532      0.127542             NaN    0.207886   \n",
       "Risk_B               0.654480      0.186327             NaN    0.887565   \n",
       "TOTAL                0.689743      0.197219             NaN    0.888093   \n",
       "numbers              0.271044      0.228560             NaN    0.221416   \n",
       "Score_B.1            0.308465      0.256442             NaN    0.259689   \n",
       "Risk_C               0.300567      0.251466             NaN    0.249978   \n",
       "Money_Value          0.829743      0.069524             NaN    0.334051   \n",
       "Score_MV             0.482285      0.217235             NaN    0.291658   \n",
       "Risk_D               0.829516      0.069490             NaN    0.334153   \n",
       "District_Loss        0.080979      0.645054             NaN    0.199357   \n",
       "PROB                 0.052636      0.338190             NaN    0.073794   \n",
       "RiSk_E               0.082823      0.729790             NaN    0.202915   \n",
       "History              0.185553      0.754299             NaN    0.329742   \n",
       "Prob                 0.273745      0.641809             NaN    0.431279   \n",
       "Risk_F               0.173045      0.760864             NaN    0.327723   \n",
       "Score                0.464835      0.356519             NaN    0.332955   \n",
       "Inherent_Risk        1.000000      0.173132             NaN    0.750893   \n",
       "CONTROL_RISK         0.173132      1.000000             NaN    0.357966   \n",
       "Detection_Risk            NaN           NaN             NaN         NaN   \n",
       "Audit_Risk           0.750893      0.357966             NaN    1.000000   \n",
       "Risk                 0.356881      0.416285             NaN    0.217023   \n",
       "\n",
       "                    Risk  \n",
       "Sector_score   -0.393322  \n",
       "PARA_A          0.378547  \n",
       "Score_A         0.619383  \n",
       "Risk_A          0.384869  \n",
       "PARA_B          0.256920  \n",
       "Score_B         0.635524  \n",
       "Risk_B          0.255181  \n",
       "TOTAL           0.291893  \n",
       "numbers         0.308017  \n",
       "Score_B.1       0.353664  \n",
       "Risk_C          0.342006  \n",
       "Money_Value     0.256992  \n",
       "Score_MV        0.688207  \n",
       "Risk_D          0.254253  \n",
       "District_Loss   0.403591  \n",
       "PROB            0.176818  \n",
       "RiSk_E          0.411594  \n",
       "History         0.239354  \n",
       "Prob            0.298520  \n",
       "Risk_F          0.214423  \n",
       "Score           0.785813  \n",
       "Inherent_Risk   0.356881  \n",
       "CONTROL_RISK    0.416285  \n",
       "Detection_Risk       NaN  \n",
       "Audit_Risk      0.217023  \n",
       "Risk            1.000000  \n",
       "\n",
       "[26 rows x 26 columns]"
      ]
     },
     "execution_count": 58,
     "metadata": {},
     "output_type": "execute_result"
    }
   ],
   "source": [
    "df.corr()"
   ]
  },
  {
   "cell_type": "markdown",
   "metadata": {},
   "source": [
    "###### Importing the model algorithm"
   ]
  },
  {
   "cell_type": "code",
   "execution_count": 49,
   "metadata": {},
   "outputs": [],
   "source": [
    "from sklearn.linear_model import LogisticRegression\n",
    "from sklearn.metrics import confusion_matrix, accuracy_score, classification_report\n",
    "from sklearn.model_selection import train_test_split"
   ]
  },
  {
   "cell_type": "code",
   "execution_count": 50,
   "metadata": {},
   "outputs": [],
   "source": [
    "x = df.drop('Risk', axis=1)\n",
    "y = df.Risk"
   ]
  },
  {
   "cell_type": "code",
   "execution_count": 51,
   "metadata": {},
   "outputs": [
    {
     "data": {
      "text/html": [
       "<div>\n",
       "<style scoped>\n",
       "    .dataframe tbody tr th:only-of-type {\n",
       "        vertical-align: middle;\n",
       "    }\n",
       "\n",
       "    .dataframe tbody tr th {\n",
       "        vertical-align: top;\n",
       "    }\n",
       "\n",
       "    .dataframe thead th {\n",
       "        text-align: right;\n",
       "    }\n",
       "</style>\n",
       "<table border=\"1\" class=\"dataframe\">\n",
       "  <thead>\n",
       "    <tr style=\"text-align: right;\">\n",
       "      <th></th>\n",
       "      <th>Sector_score</th>\n",
       "      <th>PARA_A</th>\n",
       "      <th>Score_A</th>\n",
       "      <th>Risk_A</th>\n",
       "      <th>PARA_B</th>\n",
       "      <th>Score_B</th>\n",
       "      <th>Risk_B</th>\n",
       "      <th>TOTAL</th>\n",
       "      <th>numbers</th>\n",
       "      <th>Score_B.1</th>\n",
       "      <th>...</th>\n",
       "      <th>PROB</th>\n",
       "      <th>RiSk_E</th>\n",
       "      <th>History</th>\n",
       "      <th>Prob</th>\n",
       "      <th>Risk_F</th>\n",
       "      <th>Score</th>\n",
       "      <th>Inherent_Risk</th>\n",
       "      <th>CONTROL_RISK</th>\n",
       "      <th>Detection_Risk</th>\n",
       "      <th>Audit_Risk</th>\n",
       "    </tr>\n",
       "  </thead>\n",
       "  <tbody>\n",
       "    <tr>\n",
       "      <th>0</th>\n",
       "      <td>3.89</td>\n",
       "      <td>4.18</td>\n",
       "      <td>0.6</td>\n",
       "      <td>2.508</td>\n",
       "      <td>2.50</td>\n",
       "      <td>0.2</td>\n",
       "      <td>0.500</td>\n",
       "      <td>6.68</td>\n",
       "      <td>5.0</td>\n",
       "      <td>0.2</td>\n",
       "      <td>...</td>\n",
       "      <td>0.2</td>\n",
       "      <td>0.4</td>\n",
       "      <td>0</td>\n",
       "      <td>0.2</td>\n",
       "      <td>0.0</td>\n",
       "      <td>2.4</td>\n",
       "      <td>8.574</td>\n",
       "      <td>0.4</td>\n",
       "      <td>0.5</td>\n",
       "      <td>1.7148</td>\n",
       "    </tr>\n",
       "    <tr>\n",
       "      <th>1</th>\n",
       "      <td>3.89</td>\n",
       "      <td>0.00</td>\n",
       "      <td>0.2</td>\n",
       "      <td>0.000</td>\n",
       "      <td>4.83</td>\n",
       "      <td>0.2</td>\n",
       "      <td>0.966</td>\n",
       "      <td>4.83</td>\n",
       "      <td>5.0</td>\n",
       "      <td>0.2</td>\n",
       "      <td>...</td>\n",
       "      <td>0.2</td>\n",
       "      <td>0.4</td>\n",
       "      <td>0</td>\n",
       "      <td>0.2</td>\n",
       "      <td>0.0</td>\n",
       "      <td>2.0</td>\n",
       "      <td>2.554</td>\n",
       "      <td>0.4</td>\n",
       "      <td>0.5</td>\n",
       "      <td>0.5108</td>\n",
       "    </tr>\n",
       "    <tr>\n",
       "      <th>2</th>\n",
       "      <td>3.89</td>\n",
       "      <td>0.51</td>\n",
       "      <td>0.2</td>\n",
       "      <td>0.102</td>\n",
       "      <td>0.23</td>\n",
       "      <td>0.2</td>\n",
       "      <td>0.046</td>\n",
       "      <td>0.74</td>\n",
       "      <td>5.0</td>\n",
       "      <td>0.2</td>\n",
       "      <td>...</td>\n",
       "      <td>0.2</td>\n",
       "      <td>0.4</td>\n",
       "      <td>0</td>\n",
       "      <td>0.2</td>\n",
       "      <td>0.0</td>\n",
       "      <td>2.0</td>\n",
       "      <td>1.548</td>\n",
       "      <td>0.4</td>\n",
       "      <td>0.5</td>\n",
       "      <td>0.3096</td>\n",
       "    </tr>\n",
       "    <tr>\n",
       "      <th>3</th>\n",
       "      <td>3.89</td>\n",
       "      <td>0.00</td>\n",
       "      <td>0.2</td>\n",
       "      <td>0.000</td>\n",
       "      <td>10.80</td>\n",
       "      <td>0.6</td>\n",
       "      <td>6.480</td>\n",
       "      <td>10.80</td>\n",
       "      <td>6.0</td>\n",
       "      <td>0.6</td>\n",
       "      <td>...</td>\n",
       "      <td>0.2</td>\n",
       "      <td>0.4</td>\n",
       "      <td>0</td>\n",
       "      <td>0.2</td>\n",
       "      <td>0.0</td>\n",
       "      <td>4.4</td>\n",
       "      <td>17.530</td>\n",
       "      <td>0.4</td>\n",
       "      <td>0.5</td>\n",
       "      <td>3.5060</td>\n",
       "    </tr>\n",
       "    <tr>\n",
       "      <th>4</th>\n",
       "      <td>3.89</td>\n",
       "      <td>0.00</td>\n",
       "      <td>0.2</td>\n",
       "      <td>0.000</td>\n",
       "      <td>0.08</td>\n",
       "      <td>0.2</td>\n",
       "      <td>0.016</td>\n",
       "      <td>0.08</td>\n",
       "      <td>5.0</td>\n",
       "      <td>0.2</td>\n",
       "      <td>...</td>\n",
       "      <td>0.2</td>\n",
       "      <td>0.4</td>\n",
       "      <td>0</td>\n",
       "      <td>0.2</td>\n",
       "      <td>0.0</td>\n",
       "      <td>2.0</td>\n",
       "      <td>1.416</td>\n",
       "      <td>0.4</td>\n",
       "      <td>0.5</td>\n",
       "      <td>0.2832</td>\n",
       "    </tr>\n",
       "  </tbody>\n",
       "</table>\n",
       "<p>5 rows × 25 columns</p>\n",
       "</div>"
      ],
      "text/plain": [
       "   Sector_score  PARA_A  Score_A  Risk_A  PARA_B  Score_B  Risk_B  TOTAL  \\\n",
       "0          3.89    4.18      0.6   2.508    2.50      0.2   0.500   6.68   \n",
       "1          3.89    0.00      0.2   0.000    4.83      0.2   0.966   4.83   \n",
       "2          3.89    0.51      0.2   0.102    0.23      0.2   0.046   0.74   \n",
       "3          3.89    0.00      0.2   0.000   10.80      0.6   6.480  10.80   \n",
       "4          3.89    0.00      0.2   0.000    0.08      0.2   0.016   0.08   \n",
       "\n",
       "   numbers  Score_B.1  ...  PROB  RiSk_E  History  Prob  Risk_F  Score  \\\n",
       "0      5.0        0.2  ...   0.2     0.4        0   0.2     0.0    2.4   \n",
       "1      5.0        0.2  ...   0.2     0.4        0   0.2     0.0    2.0   \n",
       "2      5.0        0.2  ...   0.2     0.4        0   0.2     0.0    2.0   \n",
       "3      6.0        0.6  ...   0.2     0.4        0   0.2     0.0    4.4   \n",
       "4      5.0        0.2  ...   0.2     0.4        0   0.2     0.0    2.0   \n",
       "\n",
       "   Inherent_Risk  CONTROL_RISK  Detection_Risk  Audit_Risk  \n",
       "0          8.574           0.4             0.5      1.7148  \n",
       "1          2.554           0.4             0.5      0.5108  \n",
       "2          1.548           0.4             0.5      0.3096  \n",
       "3         17.530           0.4             0.5      3.5060  \n",
       "4          1.416           0.4             0.5      0.2832  \n",
       "\n",
       "[5 rows x 25 columns]"
      ]
     },
     "execution_count": 51,
     "metadata": {},
     "output_type": "execute_result"
    }
   ],
   "source": [
    "x.head()"
   ]
  },
  {
   "cell_type": "markdown",
   "metadata": {},
   "source": [
    "###### Splitting the data"
   ]
  },
  {
   "cell_type": "code",
   "execution_count": 59,
   "metadata": {},
   "outputs": [],
   "source": [
    "x_train, x_test, y_train, y_test = train_test_split(x, y, test_size = .3, random_state=42)"
   ]
  },
  {
   "cell_type": "markdown",
   "metadata": {},
   "source": [
    "###### Start Modeling"
   ]
  },
  {
   "cell_type": "code",
   "execution_count": 60,
   "metadata": {
    "collapsed": true,
    "jupyter": {
     "outputs_hidden": true
    }
   },
   "outputs": [
    {
     "name": "stderr",
     "output_type": "stream",
     "text": [
      "C:\\Users\\ATANSIEYE KOLADE\\anaconda3\\lib\\site-packages\\sklearn\\linear_model\\_logistic.py:762: ConvergenceWarning: lbfgs failed to converge (status=1):\n",
      "STOP: TOTAL NO. of ITERATIONS REACHED LIMIT.\n",
      "\n",
      "Increase the number of iterations (max_iter) or scale the data as shown in:\n",
      "    https://scikit-learn.org/stable/modules/preprocessing.html\n",
      "Please also refer to the documentation for alternative solver options:\n",
      "    https://scikit-learn.org/stable/modules/linear_model.html#logistic-regression\n",
      "  n_iter_i = _check_optimize_result(\n"
     ]
    },
    {
     "data": {
      "text/plain": [
       "LogisticRegression()"
      ]
     },
     "execution_count": 60,
     "metadata": {},
     "output_type": "execute_result"
    }
   ],
   "source": [
    "model = LogisticRegression()\n",
    "model.fit(x_train, y_train)"
   ]
  },
  {
   "cell_type": "code",
   "execution_count": 62,
   "metadata": {},
   "outputs": [],
   "source": [
    "prediction = model.predict(x_test)"
   ]
  },
  {
   "cell_type": "markdown",
   "metadata": {},
   "source": [
    "###### Checking the score of the model"
   ]
  },
  {
   "cell_type": "code",
   "execution_count": 73,
   "metadata": {},
   "outputs": [
    {
     "name": "stdout",
     "output_type": "stream",
     "text": [
      "Train performance:  0.996309963099631\n",
      "Test Performance:  0.9871244635193133\n"
     ]
    }
   ],
   "source": [
    "accuracy = accuracy_score(y_test, prediction)\n",
    "print('Train performance: ', model.score(x_train, y_train))\n",
    "print('Test Performance: ', accuracy)"
   ]
  },
  {
   "cell_type": "code",
   "execution_count": 66,
   "metadata": {},
   "outputs": [
    {
     "data": {
      "text/plain": [
       "array([[138,   2],\n",
       "       [  1,  92]], dtype=int64)"
      ]
     },
     "execution_count": 66,
     "metadata": {},
     "output_type": "execute_result"
    }
   ],
   "source": [
    "confusion_matrix(y_test, prediction)"
   ]
  },
  {
   "cell_type": "code",
   "execution_count": 68,
   "metadata": {},
   "outputs": [
    {
     "name": "stdout",
     "output_type": "stream",
     "text": [
      "              precision    recall  f1-score   support\n",
      "\n",
      "           0       0.99      0.99      0.99       140\n",
      "           1       0.98      0.99      0.98        93\n",
      "\n",
      "    accuracy                           0.99       233\n",
      "   macro avg       0.99      0.99      0.99       233\n",
      "weighted avg       0.99      0.99      0.99       233\n",
      "\n"
     ]
    }
   ],
   "source": [
    "print(classification_report(y_test, prediction))"
   ]
  },
  {
   "cell_type": "code",
   "execution_count": null,
   "metadata": {},
   "outputs": [],
   "source": []
  }
 ],
 "metadata": {
  "kernelspec": {
   "display_name": "Python 3",
   "language": "python",
   "name": "python3"
  },
  "language_info": {
   "codemirror_mode": {
    "name": "ipython",
    "version": 3
   },
   "file_extension": ".py",
   "mimetype": "text/x-python",
   "name": "python",
   "nbconvert_exporter": "python",
   "pygments_lexer": "ipython3",
   "version": "3.8.3"
  }
 },
 "nbformat": 4,
 "nbformat_minor": 4
}
